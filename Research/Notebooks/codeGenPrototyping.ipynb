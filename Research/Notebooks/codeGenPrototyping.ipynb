{
 "cells": [
  {
   "cell_type": "code",
   "execution_count": 1,
   "metadata": {},
   "outputs": [],
   "source": [
    "import sys\n",
    "\n",
    "sys.path.append(\"/Users/szagar/ZTS/Dropbox/Business/ats/Code/lib\")\n",
    "\n",
    "from db_query import connectDB,nextPrototypeId\n",
    "from prototype_tools import getPrototypeSetup\n",
    "from prototype_tools import generatePrototypeCode,generateJclCode\n"
   ]
  },
  {
   "cell_type": "code",
   "execution_count": 2,
   "metadata": {},
   "outputs": [
    {
     "name": "stdout",
     "output_type": "stream",
     "text": [
      "proto_id=1\n"
     ]
    }
   ],
   "source": [
    "dbh = connectDB()\n",
    "proto_id = nextPrototypeId(dbh)\n",
    "print(f\"proto_id={proto_id}\")\n",
    "proto_id = 2\n",
    "print(f\"proto_id={proto_id}\")\n",
    "setup = getPrototypeSetup(dbh,proto_id)"
   ]
  },
  {
   "cell_type": "code",
   "execution_count": 5,
   "metadata": {},
   "outputs": [
    {
     "name": "stdout",
     "output_type": "stream",
     "text": [
      "seg=[0, 1, 2, 3]\n",
      "tseg=110.0\n",
      "timeframe = 15\n",
      "session: 900 - 1430\n",
      "1\n",
      "1: add2hhmm(sess_start, tseg)=1050\n",
      "1: add2hhmm(sess_start, (2*tseg) )=1240\n",
      "1: add2hhmm(sess_end,-timeframe)=1415\n",
      "1 done\n",
      "processTemplate: template file = v4\n",
      "desc={'chart_setup': 'Chart Setup:\\n      symbol = @CL\\n      Timeframe 0 = 15 m\\n      Fitness Function = TSI\\n      maxDaysBack = 200\\n      session name = session 7\\n      start date = 07/01/2008\\n      end date = 07/01/2009', 'prototype_info': 'Prototype Info::\\n      dataSet = 3\\n      dataBlock = 1'}\n",
      "hdr=      prototype: 2\n",
      "      template: v4\n",
      "      job file: /Users/szagar/ZTS/Dropbox/Business/ats/Data/OptimizationApiCode//proto_2.jcl\n",
      "      poi IDs     : [1, 2, 3, 4, 5, 6, 7, 8]\n",
      "      filter 1 IDs: [1, 2, 3, 4, 5, 6, 7, 8, 9, 10, 11, 12, 13, 14, 15, 16, 17, 18, 19, 20, 21, 22, 23, 24, 25, 26, 27, 28, 29, 30, 31, 32, 33, 34, 35, 36, 37, 38, 39, 40]\n",
      "      filter 2 IDs: None\n",
      "write Proto to /Users/szagar/ZTS/Dropbox/Business/ats/Data/PrototypeCode//proto_2\n"
     ]
    }
   ],
   "source": [
    "out = generatePrototypeCode(dbh,setup)\n",
    "#print(out)"
   ]
  },
  {
   "cell_type": "code",
   "execution_count": 6,
   "metadata": {},
   "outputs": [
    {
     "name": "stdout",
     "output_type": "stream",
     "text": [
      "processJclTemplate: template file = jcl_v2.template\n",
      "write JCL to /Users/szagar/ZTS/Dropbox/Business/ats/Data/OptimizationApiCode//proto_2.jcl\n"
     ]
    }
   ],
   "source": [
    "#pprint(setup)\n",
    "out = generateJclCode(dbh,setup)\n",
    "#print(out)\n"
   ]
  },
  {
   "cell_type": "code",
   "execution_count": null,
   "metadata": {},
   "outputs": [],
   "source": []
  },
  {
   "cell_type": "code",
   "execution_count": null,
   "metadata": {},
   "outputs": [],
   "source": []
  },
  {
   "cell_type": "code",
   "execution_count": null,
   "metadata": {},
   "outputs": [],
   "source": []
  },
  {
   "cell_type": "code",
   "execution_count": null,
   "metadata": {},
   "outputs": [],
   "source": []
  },
  {
   "cell_type": "code",
   "execution_count": null,
   "metadata": {},
   "outputs": [],
   "source": []
  }
 ],
 "metadata": {
  "kernelspec": {
   "display_name": "Python 3",
   "language": "python",
   "name": "python3"
  },
  "language_info": {
   "codemirror_mode": {
    "name": "ipython",
    "version": 3
   },
   "file_extension": ".py",
   "mimetype": "text/x-python",
   "name": "python",
   "nbconvert_exporter": "python",
   "pygments_lexer": "ipython3",
   "version": "3.7.1"
  }
 },
 "nbformat": 4,
 "nbformat_minor": 2
}
