{
 "cells": [
  {
   "cell_type": "code",
   "execution_count": 61,
   "metadata": {},
   "outputs": [],
   "source": [
    "import pandas as pd\n",
    "import matplotlib.pyplot as plt\n",
    "\n",
    "%matplotlib inline"
   ]
  },
  {
   "cell_type": "code",
   "execution_count": 4,
   "metadata": {},
   "outputs": [],
   "source": [
    "import sys\n",
    "sys.path.append(\"/Users/szagar/ZTS/Dropbox/Business/ats/Code/lib\")\n",
    "from db_query import connectDB"
   ]
  },
  {
   "cell_type": "code",
   "execution_count": 5,
   "metadata": {},
   "outputs": [],
   "source": [
    "dbh = connectDB()"
   ]
  },
  {
   "cell_type": "code",
   "execution_count": 11,
   "metadata": {},
   "outputs": [],
   "source": [
    "def prepare_data(is_file, oos_file):\n",
    "    if not is_file or not oos_file:\n",
    "        return None\n",
    "\n",
    "    df_is = pd.read_csv(is_file, sep=\"\\t\", index_col=\"Test\")\n",
    "    df_oos = pd.read_csv(oos_file, sep=\"\\t\", index_col=\"Test\")\n",
    "\n",
    "    strat_name = [c.split(\":\")[0] for c in df_is.columns if c.startswith(\"proto_\")][0]\n",
    "\n",
    "    df_oos.rename(\n",
    "        columns=lambda n: n.replace(f\"{strat_name}: \", \"param:\"), inplace=True\n",
    "    )\n",
    "    df_oos.rename(columns=lambda n: n.replace(\"All:\", \"OOS:\"), inplace=True)\n",
    "    df_is.rename(columns=lambda n: n.replace(f\"{strat_name}: \", \"param:\"), inplace=True)\n",
    "    df_is.rename(columns=lambda n: n.replace(\"All:\", \"IS:\"), inplace=True)\n",
    "\n",
    "    df = df_is.join(df_oos.loc[:, df_oos.columns.str.startswith(\"OOS:\")])\n",
    "    df[\"IS: NP2DD\"] = df[\"IS: Net Profit\"] / -df[\"IS: Max Intraday Drawdown\"]\n",
    "    df[\"OOS: NP2DD\"] = df[\"OOS: Net Profit\"] / -df[\"OOS: Max Intraday Drawdown\"]\n",
    "\n",
    "    df[\"IS: Expectancy\"] = df[\"IS: Avg Winning Trade\"] * df[\n",
    "        \"IS: % Profitable\"\n",
    "    ] / 100 - df[\"IS: Avg Losing Trade\"] * (1 - df[\"IS: % Profitable\"] / 100)\n",
    "\n",
    "    df[\"OOS: Expectancy\"] = df[\"OOS: Avg Winning Trade\"] * df[\n",
    "        \"OOS: % Profitable\"\n",
    "    ] / 100 - df[\"OOS: Avg Losing Trade\"] * (1 - df[\"OOS: % Profitable\"] / 100)\n",
    "\n",
    "    df[\"AvgTrade_Filter\"] = 0\n",
    "    df[\"Quartile\"] = 0\n",
    "    df.sort_values([\"IS: TradeStation Index\"], ascending=False, inplace=True)\n",
    "\n",
    "    return df\n"
   ]
  },
  {
   "cell_type": "code",
   "execution_count": 85,
   "metadata": {},
   "outputs": [
    {
     "data": {
      "image/png": "[encoded data removed]",
      "text/plain": [
       "<Figure size 720x360 with 1 Axes>"
      ]
     },
     "metadata": {
      "needs_background": "light"
     },
     "output_type": "display_data"
    }
   ],
   "source": [
    "arc_dir = '/Users/szagar/ZTS/Dropbox/Business/ats/Archive/DPfiles'\n",
    "\n",
    "proto_id_list = [15,20,25,30]\n",
    "r_df = pd.DataFrame()\n",
    "for proto_id in proto_id_list:\n",
    "    is_file = f\"{arc_dir}/proto_{proto_id}_is.csv\"\n",
    "    oos_file = f\"{arc_dir}/proto_{proto_id}_oos.csv\"\n",
    "    df = prepare_data(is_file, oos_file)\n",
    "    #print(df.columns)\n",
    "    df_top = df.sort_values('IS: TradeStation Index', ascending=False)[['IS: TradeStation Index','param:poi','param:filter_1']].head(10)\n",
    "    #print(df_top)\n",
    "    #r_df.append(df_top, ignore_index=True)\n",
    "    r_df = pd.concat([r_df,df_top], axis=0)\n",
    "tst = r_df['param:poi'].value_counts()\n",
    "#print(tst)\n",
    "g = r_df['param:poi'].value_counts().sort_index().plot.bar(figsize=(10,5), fontsize=20, rot=0)"
   ]
  },
  {
   "cell_type": "code",
   "execution_count": 87,
   "metadata": {},
   "outputs": [
    {
     "data": {
      "text/plain": [
       "10    569\n",
       "27    531\n",
       "3     438\n",
       "26    424\n",
       "29    401\n",
       "7     277\n",
       "30    265\n",
       "23    247\n",
       "8     245\n",
       "28    236\n",
       "21    226\n",
       "20    211\n",
       "22    208\n",
       "6     201\n",
       "5     197\n",
       "19    192\n",
       "39    183\n",
       "38    182\n",
       "12    167\n",
       "2     165\n",
       "1     164\n",
       "4     163\n",
       "25    162\n",
       "24    155\n",
       "15    154\n",
       "37    152\n",
       "9     144\n",
       "33    143\n",
       "11    140\n",
       "35    139\n",
       "14    129\n",
       "17    127\n",
       "13    116\n",
       "18     96\n",
       "40     86\n",
       "16     80\n",
       "32     78\n",
       "36     78\n",
       "31     73\n",
       "34     56\n",
       "Name: param:filter_1, dtype: int64"
      ]
     },
     "execution_count": 87,
     "metadata": {},
     "output_type": "execute_result"
    }
   ],
   "source": [
    "df['param:filter_1'].value_counts()#.idxmax()"
   ]
  },
  {
   "cell_type": "code",
   "execution_count": null,
   "metadata": {},
   "outputs": [],
   "source": []
  }
 ],
 "metadata": {
  "kernelspec": {
   "display_name": "Python 3",
   "language": "python",
   "name": "python3"
  },
  "language_info": {
   "codemirror_mode": {
    "name": "ipython",
    "version": 3
   },
   "file_extension": ".py",
   "mimetype": "text/x-python",
   "name": "python",
   "nbconvert_exporter": "python",
   "pygments_lexer": "ipython3",
   "version": "3.7.1"
  }
 },
 "nbformat": 4,
 "nbformat_minor": 2
}
