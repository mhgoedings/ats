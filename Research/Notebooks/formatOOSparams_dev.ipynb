{
 "cells": [
  {
   "cell_type": "code",
   "execution_count": 61,
   "metadata": {},
   "outputs": [
    {
     "data": {
      "text/plain": [
       "[{'start_dt': '01/01/2014',\n",
       "  'end_dt': '01/01/2015',\n",
       "  'input_vars': [{'name': 'NATR:int', 'val': 35},\n",
       "   {'name': 'Frac:double', 'val': 2.25}]},\n",
       " {'start_dt': '01/01/2015',\n",
       "  'end_dt': '01/01/2016',\n",
       "  'input_vars': [{'name': 'NATR:int', 'val': 30},\n",
       "   {'name': 'Frac:double', 'val': 2.15}]}]"
      ]
     },
     "execution_count": 61,
     "metadata": {},
     "output_type": "execute_result"
    }
   ],
   "source": [
    "data = [{'start_dt': '01/01/2014', \n",
    "         'end_dt': '01/01/2015', \n",
    "         'input_vars': [{'name': 'NATR:int', 'val': 35},\n",
    "                        {'name': 'Frac:double', 'val': 2.25}]},\n",
    "        {'start_dt': '01/01/2015', \n",
    "         'end_dt': '01/01/2016', \n",
    "         'input_vars': [{'name': 'NATR:int', 'val': 30},\n",
    "                        {'name': 'Frac:double', 'val': 2.15}]},\n",
    "       ]\n",
    "d1 = {'start_dt': '01/01/2014', \n",
    "         'end_dt': '01/01/2015', \n",
    "         'input_vars': [{'name': 'NATR:int', 'val': 35},\n",
    "                        {'name': 'Frac:double', 'val': 2.25}]}\n",
    "d2 = {'start_dt': '01/01/2015', \n",
    "         'end_dt': '01/01/2016', \n",
    "         'input_vars': [{'name': 'NATR:int', 'val': 30},\n",
    "                        {'name': 'Frac:double', 'val': 2.15}]}\n",
    "data2 = []\n",
    "data2.append(d1)\n",
    "data2.append(d2)\n",
    "data2"
   ]
  },
  {
   "cell_type": "code",
   "execution_count": 62,
   "metadata": {},
   "outputs": [],
   "source": [
    "def formatOosBlock(start_dt,end_dt,input_vars):\n",
    "    str = f'if Date > {start_dt} and Date <= {end_dt}:\\n'\n",
    "    for v in input_vars:\n",
    "        n,t = v['name'].split(':')\n",
    "        str += f'    {t} {n}({v[\"val\"]})\\n'\n",
    "    #str += '\\n'\n",
    "    return str"
   ]
  },
  {
   "cell_type": "code",
   "execution_count": 65,
   "metadata": {},
   "outputs": [
    {
     "name": "stdout",
     "output_type": "stream",
     "text": [
      "if Date > 01/01/2014 and Date <= 01/01/2015:\n",
      "    int NATR(35)\n",
      "    double Frac(2.25)\n",
      "\n",
      "if Date > 01/01/2015 and Date <= 01/01/2016:\n",
      "    int NATR(30)\n",
      "    double Frac(2.15)\n",
      "\n"
     ]
    }
   ],
   "source": [
    "for p in data2:\n",
    "    str=formatOosBlock(p[\"start_dt\"],p[\"end_dt\"],p[\"input_vars\"])\n",
    "    print(str)"
   ]
  },
  {
   "cell_type": "code",
   "execution_count": 3,
   "metadata": {},
   "outputs": [],
   "source": [
    "import json\n",
    "j = json.dumps(data)"
   ]
  },
  {
   "cell_type": "code",
   "execution_count": 4,
   "metadata": {},
   "outputs": [
    {
     "data": {
      "text/plain": [
       "'[{\"start_dt\": \"01/01/2014\", \"end_dt\": \"01/01/2015\"}]'"
      ]
     },
     "execution_count": 4,
     "metadata": {},
     "output_type": "execute_result"
    }
   ],
   "source": [
    "j"
   ]
  },
  {
   "cell_type": "code",
   "execution_count": 5,
   "metadata": {},
   "outputs": [
    {
     "data": {
      "text/plain": [
       "[{'start_dt': '01/01/2014', 'end_dt': '01/01/2015'}]"
      ]
     },
     "execution_count": 5,
     "metadata": {},
     "output_type": "execute_result"
    }
   ],
   "source": [
    "data"
   ]
  },
  {
   "cell_type": "code",
   "execution_count": null,
   "metadata": {},
   "outputs": [],
   "source": []
  }
 ],
 "metadata": {
  "kernelspec": {
   "display_name": "Python 3",
   "language": "python",
   "name": "python3"
  },
  "language_info": {
   "codemirror_mode": {
    "name": "ipython",
    "version": 3
   },
   "file_extension": ".py",
   "mimetype": "text/x-python",
   "name": "python",
   "nbconvert_exporter": "python",
   "pygments_lexer": "ipython3",
   "version": "3.7.1"
  }
 },
 "nbformat": 4,
 "nbformat_minor": 2
}
