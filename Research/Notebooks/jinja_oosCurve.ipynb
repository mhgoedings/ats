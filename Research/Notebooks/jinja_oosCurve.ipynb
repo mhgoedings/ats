{
 "cells": [
  {
   "cell_type": "code",
   "execution_count": 1,
   "metadata": {},
   "outputs": [],
   "source": [
    "from jinja2 import FileSystemLoader, Environment"
   ]
  },
  {
   "cell_type": "code",
   "execution_count": 2,
   "metadata": {},
   "outputs": [],
   "source": [
    "def render_from_template(directory, template_name, **kwargs):\n",
    "    loader = FileSystemLoader(directory)\n",
    "    env = Environment(loader=loader)\n",
    "    template = env.get_template(template_name)\n",
    "    return template.render(**kwargs)"
   ]
  },
  {
   "cell_type": "code",
   "execution_count": 41,
   "metadata": {},
   "outputs": [],
   "source": [
    "trades_per_day = 1\n",
    "session_start = \"930\"\n",
    "session_end = \"1600\"\n",
    "day_or_swing = 0     # 0: day trade, 1: swing trade\n",
    "long_short_both = 3  # 1: long, 2: short, 3: both\n",
    "inputs = [{'name': 'NATR', 'itype': 'int', 'value': 20}, {'name': 'Fract', 'itype': 'double', 'value': '1.75'}]"
   ]
  },
  {
   "cell_type": "code",
   "execution_count": 42,
   "metadata": {},
   "outputs": [
    {
     "name": "stdout",
     "output_type": "stream",
     "text": [
      "{ jinja2 generated code }\n",
      "\n",
      "\n",
      "\n",
      "\n",
      "\n",
      "\n",
      "Inputs:\n",
      "\n",
      "\n",
      "  int NATR(20),\n",
      "\n",
      "  double Fract(1.75),\n",
      "\n",
      "\n",
      "\n",
      "Vars:\n",
      "\n",
      "\tint sess_start( 930 ),\t//beginning time of the trading session     900\n",
      "\tint sess_end( 1600 ),\t//ending time of the trading session          1600\n",
      "\tint TradesPerDay( 1 ), //maximum trades per day\n",
      "\tint DaytradingORswing( 0 ),\t//0=DAYTRADING strategy (EOD exit), 1=SWING strategy\n",
      "\tint L_S_B( 3 );\t//1=LONG strategies only, 2=SHORT strategies only, 3=LONG and SHORT strategies\n",
      "\n",
      "\n",
      "Vars: \n",
      "\n",
      "\n",
      "\n",
      "\n",
      "\n",
      "\n",
      "\n",
      "\n",
      "\n",
      "\n",
      "\n",
      "\n",
      "\n",
      "\n",
      "  \n",
      "\n",
      "\n",
      " \n",
      "\n",
      "{***** EXECUTION *****}\n",
      "//Protection that both LONG and SHORT stop orders placed at the same time \n",
      "diff1 = absvalue(close - BO_Level_LONG);\n",
      "diff2 = absvalue(close - BO_Level_SHORT);\n",
      "//always pick only one entry, the closer one to the actual market\n",
      "if (diff1 <= diff2) then FinalEntryDirection = 1 else FinalEntryDirection = -1;\n",
      "\n",
      "\n",
      "\n",
      "{***** STOP-LOSS & EXITS *****}\n",
      " \n",
      "{ StopLoss } \n",
      "If SL_switch = 1 then setstoploss (SL); \n",
      " \n",
      "{ Profit-target - for SWING strategies only } \n",
      "If PT_switch = 1 then setprofittarget (PT);\n",
      " \n",
      "{ End of Day (EOD) exit (for daytrading strategies only)}\n",
      "If DaytradingORswing = 0 then setexitonclose;\n"
     ]
    }
   ],
   "source": [
    "templateLoader = FileSystemLoader(searchpath=\"./\")\n",
    "templateEnv = Environment(loader=templateLoader)\n",
    "TEMPLATE_FILE = 'bos_template.txt'\n",
    "template = templateEnv.get_template(TEMPLATE_FILE)\n",
    "outputText = template.render(session_start=session_start,\n",
    "                             session_end=session_end,\n",
    "                             trades_per_day=trades_per_day,\n",
    "                             day_or_swing = day_or_swing,\n",
    "                             long_short_both = long_short_both,\n",
    "                             inputs = inputs,\n",
    "                            )\n",
    "print(outputText)"
   ]
  },
  {
   "cell_type": "markdown",
   "metadata": {},
   "source": [
    "## "
   ]
  },
  {
   "cell_type": "code",
   "execution_count": null,
   "metadata": {},
   "outputs": [],
   "source": []
  }
 ],
 "metadata": {
  "kernelspec": {
   "display_name": "Python 3",
   "language": "python",
   "name": "python3"
  },
  "language_info": {
   "codemirror_mode": {
    "name": "ipython",
    "version": 3
   },
   "file_extension": ".py",
   "mimetype": "text/x-python",
   "name": "python",
   "nbconvert_exporter": "python",
   "pygments_lexer": "ipython3",
   "version": "3.6.4"
  }
 },
 "nbformat": 4,
 "nbformat_minor": 2
}
