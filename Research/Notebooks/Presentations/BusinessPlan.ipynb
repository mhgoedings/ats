{
 "cells": [
  {
   "cell_type": "markdown",
   "metadata": {},
   "source": [
    "Striker Securities - www.striker.com"
   ]
  },
  {
   "cell_type": "markdown",
   "metadata": {},
   "source": [
    "## The Process"
   ]
  },
  {
   "cell_type": "markdown",
   "metadata": {},
   "source": [
    "### Walk-Forward Analysis"
   ]
  },
  {
   "cell_type": "markdown",
   "metadata": {},
   "source": [
    "* Will the strategy continue to make money afer optimization?\n",
    "* How often should the strategy be re-optimized?"
   ]
  },
  {
   "cell_type": "markdown",
   "metadata": {},
   "source": [
    "market internals - compare underwater equity curve"
   ]
  },
  {
   "cell_type": "markdown",
   "metadata": {},
   "source": [
    "* keep things simple\n",
    "* don't focus on winning %"
   ]
  },
  {
   "cell_type": "markdown",
   "metadata": {},
   "source": [
    "### Business Model"
   ]
  },
  {
   "cell_type": "markdown",
   "metadata": {},
   "source": [
    "#### Target"
   ]
  },
  {
   "cell_type": "markdown",
   "metadata": {},
   "source": [
    "* Stryker Securities : lease strategy\n",
    " * https://www.striker.com"
   ]
  },
  {
   "cell_type": "markdown",
   "metadata": {},
   "source": [
    "* SMB Capital : job as systematic futures trader\n",
    " * Merritt Black:  Head Trader of SMB Futures Trading Desk\n",
    "  * Auction Market Theory and Market / Volume Profile,\n",
    "  * relies heavily on understanding the current market condition in order to frame context"
   ]
  },
  {
   "cell_type": "markdown",
   "metadata": {},
   "source": [
    "* Kershner Trading Group\n",
    " * https://www.kershnertrading.com/"
   ]
  },
  {
   "cell_type": "markdown",
   "metadata": {},
   "source": [
    "### DOW\n",
    "* Larry Williams\n",
    "* don't cherry pick best days\n",
    "* if obcious bad day, exclude it"
   ]
  },
  {
   "cell_type": "markdown",
   "metadata": {},
   "source": [
    "### Metrics\n",
    "*  *Entry* and *Exit* rules  determine **expectancy** and **opportunity**\n",
    "*  *Position sizing* determines **net profit**\n",
    "* **Sharpe Ratio** measures consistency.  Do not use to measure overall strategy merit.\n",
    "* **Expectancy Score** looks at expected return for every dollar risked with the frequency of opportunities.\n",
    " * Expectancy = (AvgWin * ProbWin + AvgLoss * ProbWin) / abs(AvgLoss)\n",
    " * Opportunity = NumTrades * 365 / StudyDays\n",
    "   * NumTrades = number of non-scratch trades (scratch trade loses commissions+slippage or less\n",
    "   * StudDays = calendar days trading activity\n",
    "   * Discard highest winning trade(outlier)\n",
    "   * Rather than use arithmetic average, look at using distibution mean"
   ]
  },
  {
   "cell_type": "markdown",
   "metadata": {},
   "source": [
    "### Portfolio Building\n",
    "* ideas:\n",
    "  * optimize for max expectancy score. Position sizing will take care of the rest.\n",
    "  * a good position sizing strategy with a high-expectancy strategy will provide smoother, greater equity curve"
   ]
  },
  {
   "cell_type": "code",
   "execution_count": null,
   "metadata": {},
   "outputs": [],
   "source": []
  }
 ],
 "metadata": {
  "kernelspec": {
   "display_name": "Python 3",
   "language": "python",
   "name": "python3"
  },
  "language_info": {
   "codemirror_mode": {
    "name": "ipython",
    "version": 3
   },
   "file_extension": ".py",
   "mimetype": "text/x-python",
   "name": "python",
   "nbconvert_exporter": "python",
   "pygments_lexer": "ipython3",
   "version": "3.7.1"
  }
 },
 "nbformat": 4,
 "nbformat_minor": 2
}
