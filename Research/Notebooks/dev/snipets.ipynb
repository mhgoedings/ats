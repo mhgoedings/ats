{
 "cells": [
  {
   "cell_type": "code",
   "execution_count": 1,
   "metadata": {},
   "outputs": [],
   "source": [
    "from datetime import datetime\n",
    "def set_dates(data_set,data_block,time_frames):\n",
    "    number_segments = 10\n",
    "    data_sets = []\n",
    "    data_sets.insert(1,['1/1/08','1/1/18'])\n",
    "    data_sets.insert(2,['1/1/08','7/1/18'])\n",
    "    data_sets.insert(3,['7/1/08','7/1/18'])\n",
    "    df = pd.DataFrame(data_sets,columns=['start_dt','end_dt'])\n",
    "    df['start_dt'] = pd.to_datetime(df['start_dt'])\n",
    "    df['end_dt'] = pd.to_datetime(df['end_dt'])\n",
    "\n",
    "\n",
    "    use_daily = False\n",
    "    if '1440' in time_frames: use_daily = True\n",
    "    if 'D' in time_frames: use_daily= True\n",
    "        \n",
    "    seg_size = int((df.loc[data_set]['end_dt']-df.loc[data_set]['start_dt']).days / number_segments)\n",
    "    start_dt     = df.loc[data_set]['start_dt'] + (data_block-1)*seg_size\n",
    "    pre_start_dt = start_dt - int((bars_back/5)*7)\n",
    "    end_dt       = start_dt + seg_size\n",
    "    return {'pre_start_dt': pre_start_dt,\n",
    "            'start_dt': start_dt,\n",
    "            'end_dt': end_dt,\n",
    "            'bt_start_dt': data_sets[data_set][0],\n",
    "            'bt_end_dt': data_sets[data_set][1],\n",
    "           }\n"
   ]
  },
  {
   "cell_type": "code",
   "execution_count": 3,
   "metadata": {},
   "outputs": [
    {
     "ename": "ValueError",
     "evalue": "Cannot add integral value to Timestamp without freq.",
     "output_type": "error",
     "traceback": [
      "\u001b[0;31m---------------------------------------------------------------------------\u001b[0m",
      "\u001b[0;31mValueError\u001b[0m                                Traceback (most recent call last)",
      "\u001b[0;32m<ipython-input-3-0005b963ebf3>\u001b[0m in \u001b[0;36m<module>\u001b[0;34m\u001b[0m\n\u001b[1;32m      2\u001b[0m \u001b[0mtime_frames\u001b[0m \u001b[0;34m=\u001b[0m \u001b[0;34m[\u001b[0m\u001b[0;34m'15'\u001b[0m\u001b[0;34m,\u001b[0m\u001b[0;34m'1440'\u001b[0m\u001b[0;34m]\u001b[0m\u001b[0;34m\u001b[0m\u001b[0m\n\u001b[1;32m      3\u001b[0m \u001b[0mbars_back\u001b[0m\u001b[0;34m=\u001b[0m\u001b[0;36m200\u001b[0m\u001b[0;34m\u001b[0m\u001b[0m\n\u001b[0;32m----> 4\u001b[0;31m \u001b[0mr\u001b[0m \u001b[0;34m=\u001b[0m \u001b[0mset_dates\u001b[0m\u001b[0;34m(\u001b[0m\u001b[0;36m1\u001b[0m\u001b[0;34m,\u001b[0m\u001b[0;36m1\u001b[0m\u001b[0;34m,\u001b[0m\u001b[0mtime_frames\u001b[0m\u001b[0;34m)\u001b[0m\u001b[0;34m\u001b[0m\u001b[0m\n\u001b[0m\u001b[1;32m      5\u001b[0m \u001b[0mr\u001b[0m\u001b[0;34m\u001b[0m\u001b[0m\n",
      "\u001b[0;32m<ipython-input-1-0fcd32aedbb4>\u001b[0m in \u001b[0;36mset_dates\u001b[0;34m(data_set, data_block, time_frames)\u001b[0m\n\u001b[1;32m     16\u001b[0m \u001b[0;34m\u001b[0m\u001b[0m\n\u001b[1;32m     17\u001b[0m     \u001b[0mseg_size\u001b[0m \u001b[0;34m=\u001b[0m \u001b[0mint\u001b[0m\u001b[0;34m(\u001b[0m\u001b[0;34m(\u001b[0m\u001b[0mdf\u001b[0m\u001b[0;34m.\u001b[0m\u001b[0mloc\u001b[0m\u001b[0;34m[\u001b[0m\u001b[0mdata_set\u001b[0m\u001b[0;34m]\u001b[0m\u001b[0;34m[\u001b[0m\u001b[0;34m'end_dt'\u001b[0m\u001b[0;34m]\u001b[0m\u001b[0;34m-\u001b[0m\u001b[0mdf\u001b[0m\u001b[0;34m.\u001b[0m\u001b[0mloc\u001b[0m\u001b[0;34m[\u001b[0m\u001b[0mdata_set\u001b[0m\u001b[0;34m]\u001b[0m\u001b[0;34m[\u001b[0m\u001b[0;34m'start_dt'\u001b[0m\u001b[0;34m]\u001b[0m\u001b[0;34m)\u001b[0m\u001b[0;34m.\u001b[0m\u001b[0mdays\u001b[0m \u001b[0;34m/\u001b[0m \u001b[0mnumber_segments\u001b[0m\u001b[0;34m)\u001b[0m\u001b[0;34m\u001b[0m\u001b[0m\n\u001b[0;32m---> 18\u001b[0;31m     \u001b[0mstart_dt\u001b[0m     \u001b[0;34m=\u001b[0m \u001b[0mdf\u001b[0m\u001b[0;34m.\u001b[0m\u001b[0mloc\u001b[0m\u001b[0;34m[\u001b[0m\u001b[0mdata_set\u001b[0m\u001b[0;34m]\u001b[0m\u001b[0;34m[\u001b[0m\u001b[0;34m'start_dt'\u001b[0m\u001b[0;34m]\u001b[0m \u001b[0;34m+\u001b[0m \u001b[0;34m(\u001b[0m\u001b[0mdata_block\u001b[0m\u001b[0;34m-\u001b[0m\u001b[0;36m1\u001b[0m\u001b[0;34m)\u001b[0m\u001b[0;34m*\u001b[0m\u001b[0mseg_size\u001b[0m\u001b[0;34m\u001b[0m\u001b[0m\n\u001b[0m\u001b[1;32m     19\u001b[0m     \u001b[0mpre_start_dt\u001b[0m \u001b[0;34m=\u001b[0m \u001b[0mstart_dt\u001b[0m \u001b[0;34m-\u001b[0m \u001b[0mint\u001b[0m\u001b[0;34m(\u001b[0m\u001b[0;34m(\u001b[0m\u001b[0mbars_back\u001b[0m\u001b[0;34m/\u001b[0m\u001b[0;36m5\u001b[0m\u001b[0;34m)\u001b[0m\u001b[0;34m*\u001b[0m\u001b[0;36m7\u001b[0m\u001b[0;34m)\u001b[0m\u001b[0;34m\u001b[0m\u001b[0m\n\u001b[1;32m     20\u001b[0m     \u001b[0mend_dt\u001b[0m       \u001b[0;34m=\u001b[0m \u001b[0mstart_dt\u001b[0m \u001b[0;34m+\u001b[0m \u001b[0mseg_size\u001b[0m\u001b[0;34m\u001b[0m\u001b[0m\n",
      "\u001b[0;32mpandas/_libs/tslibs/timestamps.pyx\u001b[0m in \u001b[0;36mpandas._libs.tslibs.timestamps._Timestamp.__add__\u001b[0;34m()\u001b[0m\n",
      "\u001b[0;31mValueError\u001b[0m: Cannot add integral value to Timestamp without freq."
     ]
    }
   ],
   "source": [
    "import pandas as pd\n",
    "time_frames = ['15','1440']\n",
    "bars_back=200\n",
    "r = set_dates(1,1,time_frames)\n",
    "r"
   ]
  },
  {
   "cell_type": "code",
   "execution_count": 83,
   "metadata": {},
   "outputs": [
    {
     "data": {
      "text/plain": [
       "3653"
      ]
     },
     "execution_count": 83,
     "metadata": {},
     "output_type": "execute_result"
    }
   ],
   "source": [
    "diff = r.loc[0]['end_dt'] - r.loc[0]['start_dt']\n",
    "diff.days"
   ]
  },
  {
   "cell_type": "code",
   "execution_count": 153,
   "metadata": {},
   "outputs": [
    {
     "name": "stdout",
     "output_type": "stream",
     "text": [
      "135\n"
     ]
    }
   ],
   "source": [
    "def timestr2mins(ts):\n",
    "    return int(ts/100)*60 + ts%100\n",
    "\n",
    "print(timestr2mins(215))"
   ]
  },
  {
   "cell_type": "code",
   "execution_count": 6,
   "metadata": {},
   "outputs": [
    {
     "data": {
      "text/plain": [
       "{'pre_start_dt': Timestamp('2014-03-25 00:00:00'),\n",
       " 'start_dt': Timestamp('2014-12-30 00:00:00'),\n",
       " 'end_dt': Timestamp('2015-12-30 00:00:00'),\n",
       " 'bt_start_dt': Timestamp('2008-01-01 00:00:00'),\n",
       " 'bt_end_dt': Timestamp('2018-01-01 00:00:00')}"
      ]
     },
     "execution_count": 6,
     "metadata": {},
     "output_type": "execute_result"
    }
   ],
   "source": [
    "#    from datetime import datetime\n",
    "#    \n",
    "#    data_set = 1\n",
    "#    data_block = 10\n",
    "    \n",
    "import math\n",
    "def set_dates(sess_st,sess_end,tf,bars_back,data_set,data_block,time_frames):\n",
    "    number_segments = 10\n",
    "    data_sets = []\n",
    "    data_sets.append([1,'1/1/08','1/1/18'])\n",
    "    data_sets.append([2,'1/1/08','7/1/18'])\n",
    "    data_sets.append([3,'7/1/08','7/1/18'])\n",
    "    df = pd.DataFrame(data_sets,columns=['data_set','start_dt','end_dt'])\n",
    "    df.set_index('data_set',inplace=True)\n",
    "    df['start_dt'] = pd.to_datetime(df['start_dt'])\n",
    "    df['end_dt'] = pd.to_datetime(df['end_dt'])\n",
    "\n",
    "    \n",
    "\n",
    "    use_daily = False\n",
    "    if '1440' in time_frames: use_daily = True\n",
    "    if 'D' in time_frames: use_daily= True\n",
    "    if not use_daily:\n",
    "        bars_per_session = (timestr2mins(sess_end)-timestr2mins(sess_st)/tf)\n",
    "        print(bars_per_session)\n",
    "        bars_back = math.ceil(200/bars_per_session)\n",
    "    seg_size = int((df.loc[data_set]['end_dt']-df.loc[data_set]['start_dt']).days / number_segments)\n",
    "    start_dt     = df.loc[data_set]['start_dt'] + pd.DateOffset((data_block-1)*seg_size)\n",
    "    pre_start_dt = start_dt - pd.DateOffset(round((bars_back/5)*7))\n",
    "    end_dt       = start_dt + pd.DateOffset(seg_size)\n",
    "    #print(f'seg_size :{seg_size}')\n",
    "    #print(f'offset   :{(data_block-1)*seg_size}')\n",
    "    #print(f'pre_start: {pre_start_dt}')\n",
    "    #print(f'start_dt : {start_dt}')\n",
    "    #print(f'end_dt   : {end_dt}')\n",
    "    return {'pre_start_dt': pre_start_dt,\n",
    "            'start_dt': start_dt,\n",
    "            'end_dt': end_dt,\n",
    "            'bt_start_dt': df.loc[data_set]['start_dt'],\n",
    "            'bt_end_dt': df.loc[data_set]['end_dt'],\n",
    "           }\n",
    "\n",
    "time_frames = ['1440',]\n",
    "bars_back=200\n",
    "sess_st = 800\n",
    "sess_end = 1600\n",
    "tf1 = 15\n",
    "data_set = 1\n",
    "data_block = 8\n",
    "r = set_dates(sess_st,sess_end,tf1,bars_back,data_set,data_block,time_frames)\n",
    "r"
   ]
  },
  {
   "cell_type": "code",
   "execution_count": 166,
   "metadata": {},
   "outputs": [
    {
     "data": {
      "text/plain": [
       "1"
      ]
     },
     "execution_count": 166,
     "metadata": {},
     "output_type": "execute_result"
    }
   ],
   "source": [
    "round(math.ceil(200/928.0)/5*7)"
   ]
  },
  {
   "cell_type": "code",
   "execution_count": null,
   "metadata": {},
   "outputs": [],
   "source": []
  }
 ],
 "metadata": {
  "kernelspec": {
   "display_name": "Python 3",
   "language": "python",
   "name": "python3"
  },
  "language_info": {
   "codemirror_mode": {
    "name": "ipython",
    "version": 3
   },
   "file_extension": ".py",
   "mimetype": "text/x-python",
   "name": "python",
   "nbconvert_exporter": "python",
   "pygments_lexer": "ipython3",
   "version": "3.7.0"
  }
 },
 "nbformat": 4,
 "nbformat_minor": 2
}
