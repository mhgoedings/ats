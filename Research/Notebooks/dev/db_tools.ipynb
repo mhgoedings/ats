{
 "cells": [
  {
   "cell_type": "code",
   "execution_count": 1,
   "metadata": {},
   "outputs": [],
   "source": [
    "import os"
   ]
  },
  {
   "cell_type": "code",
   "execution_count": 2,
   "metadata": {},
   "outputs": [],
   "source": [
    "import sys\n",
    "sys.path.append(\"/Users/szagar/ZTS/Dropbox/Business/ats/Code/Model/v2\")"
   ]
  },
  {
   "cell_type": "code",
   "execution_count": 3,
   "metadata": {},
   "outputs": [],
   "source": [
    "from sqlalchemy import create_engine\n",
    "from sqlalchemy.orm import sessionmaker"
   ]
  },
  {
   "cell_type": "code",
   "execution_count": 4,
   "metadata": {},
   "outputs": [],
   "source": [
    "from base import Base,Session"
   ]
  },
  {
   "cell_type": "code",
   "execution_count": 5,
   "metadata": {},
   "outputs": [
    {
     "ename": "ModuleNotFoundError",
     "evalue": "No module named 'stress_test'",
     "output_type": "error",
     "traceback": [
      "\u001b[0;31m---------------------------------------------------------------------------\u001b[0m",
      "\u001b[0;31mModuleNotFoundError\u001b[0m                       Traceback (most recent call last)",
      "\u001b[0;32m<ipython-input-5-3f9d771b39b6>\u001b[0m in \u001b[0;36m<module>\u001b[0;34m()\u001b[0m\n\u001b[1;32m      3\u001b[0m \u001b[0;32mfrom\u001b[0m \u001b[0mstrategy\u001b[0m \u001b[0;32mimport\u001b[0m \u001b[0mStrategy\u001b[0m\u001b[0;34m\u001b[0m\u001b[0m\n\u001b[1;32m      4\u001b[0m \u001b[0;32mfrom\u001b[0m \u001b[0mcandidate\u001b[0m \u001b[0;32mimport\u001b[0m \u001b[0mCandidate\u001b[0m\u001b[0;34m\u001b[0m\u001b[0m\n\u001b[0;32m----> 5\u001b[0;31m \u001b[0;32mfrom\u001b[0m \u001b[0mstress_test\u001b[0m \u001b[0;32mimport\u001b[0m \u001b[0mStressTest\u001b[0m\u001b[0;34m\u001b[0m\u001b[0m\n\u001b[0m",
      "\u001b[0;31mModuleNotFoundError\u001b[0m: No module named 'stress_test'"
     ]
    }
   ],
   "source": [
    "from prototype import Prototype\n",
    "from session import Session\n",
    "from strategy import Strategy\n",
    "from candidate import Candidate\n",
    "from stress_test import StressTest"
   ]
  },
  {
   "cell_type": "code",
   "execution_count": 6,
   "metadata": {},
   "outputs": [],
   "source": [
    "engine = create_engine(os.environ['DATABASE_URL'])\n",
    "Base.metadata.bind = engine\n",
    "DbSession = sessionmaker(bind=engine)\n",
    "session = DbSession()"
   ]
  },
  {
   "cell_type": "code",
   "execution_count": 7,
   "metadata": {},
   "outputs": [],
   "source": [
    "trading_session = session.query(Session)"
   ]
  },
  {
   "cell_type": "code",
   "execution_count": 8,
   "metadata": {},
   "outputs": [],
   "source": [
    "#print(trading_session)"
   ]
  },
  {
   "cell_type": "markdown",
   "metadata": {},
   "source": [
    "# Generate Templates for DP Process - prototypes"
   ]
  },
  {
   "cell_type": "code",
   "execution_count": 20,
   "metadata": {},
   "outputs": [],
   "source": [
    "timeframes = [15,20,30,60,90,120,240]\n",
    "for tf in timeframes:\n",
    "    for s in trading_session:\n",
    "        out_fn = f'{os.environ[\"ATS_DATA\"]}/PrototypeTemplates/Proto_1TF_{tf}m_sess{s.id}.txt'\n",
    "        cmd = f'sed \\'s/\\<BARSIZE\\>/{tf}/;s/\\<START\\>/{s.session_start}/;s/\\<END\\>/{s.session_end}/;\\' Proto_1TF_template_v1.txt > {out_fn}'\n",
    "        !{cmd}\n",
    "        out_fn = f'{os.environ[\"ATS_DATA\"]}/PrototypeTemplates/Proto_2TF_{tf}m_sess{s.id}.txt'\n",
    "        cmd = f'sed \\'s/\\<BARSIZE\\>/{tf}/;s/\\<START\\>/{s.session_start}/;s/\\<END\\>/{s.session_end}/;\\' Proto_2TF_template_v1.txt > {out_fn}'\n",
    "        !{cmd}"
   ]
  },
  {
   "cell_type": "markdown",
   "metadata": {},
   "source": [
    "# Build EasyLanguage from Prototypes"
   ]
  },
  {
   "cell_type": "markdown",
   "metadata": {},
   "source": [
    "* copy src to s3: zts.templates.ts/queue-2-ELD\n",
    " * pip install boto3\n",
    " * set aws credentials\n",
    "  * aws configure  # sets up authentication (IAM console) (requires AWS CLI)\n",
    "  * or create ~/.aws/credentials\n",
    "   * [default]\n",
    "    * aws_access_key_id = YOUR_ACCESS_KEY\n",
    "    * aws_secret_access_key = YOUR_SECRET_KEY\n",
    "* code"
   ]
  },
  {
   "cell_type": "raw",
   "metadata": {},
   "source": [
    "import boto3\n",
    "\n",
    "s3 = boto3.resource('s3')\n",
    "\n",
    "# print out bucket names\n",
    "for bucket in s3.buckets.all():\n",
    "  print(bucket.name)\n",
    "  \n",
    "# upload a file\n",
    "data = open('test.jpg', 'rb')\n",
    "s3.Bucket('my-bucket').put_object(Key='test'jpg', Body=data)\n"
   ]
  },
  {
   "cell_type": "code",
   "execution_count": 21,
   "metadata": {},
   "outputs": [
    {
     "ename": "ModuleNotFoundError",
     "evalue": "No module named 'boto3'",
     "output_type": "error",
     "traceback": [
      "\u001b[0;31m---------------------------------------------------------------------------\u001b[0m",
      "\u001b[0;31mModuleNotFoundError\u001b[0m                       Traceback (most recent call last)",
      "\u001b[0;32m<ipython-input-21-5c43c86c018e>\u001b[0m in \u001b[0;36m<module>\u001b[0;34m()\u001b[0m\n\u001b[0;32m----> 1\u001b[0;31m \u001b[0;32mimport\u001b[0m \u001b[0mboto3\u001b[0m\u001b[0;34m\u001b[0m\u001b[0m\n\u001b[0m",
      "\u001b[0;31mModuleNotFoundError\u001b[0m: No module named 'boto3'"
     ]
    }
   ],
   "source": [
    "import boto3"
   ]
  },
  {
   "cell_type": "code",
   "execution_count": null,
   "metadata": {},
   "outputs": [],
   "source": []
  }
 ],
 "metadata": {
  "kernelspec": {
   "display_name": "Python 3",
   "language": "python",
   "name": "python3"
  },
  "language_info": {
   "codemirror_mode": {
    "name": "ipython",
    "version": 3
   },
   "file_extension": ".py",
   "mimetype": "text/x-python",
   "name": "python",
   "nbconvert_exporter": "python",
   "pygments_lexer": "ipython3",
   "version": "3.7.1"
  }
 },
 "nbformat": 4,
 "nbformat_minor": 2
}
