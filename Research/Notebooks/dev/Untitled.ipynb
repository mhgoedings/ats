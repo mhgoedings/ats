{
 "cells": [
  {
   "cell_type": "code",
   "execution_count": 15,
   "metadata": {},
   "outputs": [
    {
     "name": "stdout",
     "output_type": "stream",
     "text": [
      "n12\n",
      "yes\n",
      "12\n",
      "filter_2\n"
     ]
    }
   ],
   "source": [
    "col_name = 'filter_2_n12'\n",
    "print(col_name.split('_')[-1])\n",
    "if col_name.split('_')[-1].startswith('n'):\n",
    "    print('yes')\n",
    "    param_num = col_name.split('_')[-1][1:]\n",
    "    print(param_num)\n",
    "    parent = col_name[:col_name.rfind('_')]\n",
    "    print(parent)\n",
    "else:\n",
    "    print('no')"
   ]
  },
  {
   "cell_type": "code",
   "execution_count": 24,
   "metadata": {},
   "outputs": [
    {
     "data": {
      "text/plain": [
       "2"
      ]
     },
     "execution_count": 24,
     "metadata": {},
     "output_type": "execute_result"
    }
   ],
   "source": [
    "sym='IBM'\n",
    "tf='15'\n",
    "data_series = [[sym, tf, 'm'],\n",
    "                   [sym, '1440', 'm'],] \n",
    "#data_series = [[sym, tf, 'm'],\n",
    "#                  ] \n",
    "len(data_series)"
   ]
  },
  {
   "cell_type": "code",
   "execution_count": null,
   "metadata": {},
   "outputs": [],
   "source": []
  },
  {
   "cell_type": "code",
   "execution_count": null,
   "metadata": {},
   "outputs": [],
   "source": []
  },
  {
   "cell_type": "code",
   "execution_count": null,
   "metadata": {},
   "outputs": [],
   "source": []
  }
 ],
 "metadata": {
  "kernelspec": {
   "display_name": "Python 3",
   "language": "python",
   "name": "python3"
  },
  "language_info": {
   "codemirror_mode": {
    "name": "ipython",
    "version": 3
   },
   "file_extension": ".py",
   "mimetype": "text/x-python",
   "name": "python",
   "nbconvert_exporter": "python",
   "pygments_lexer": "ipython3",
   "version": "3.7.1"
  }
 },
 "nbformat": 4,
 "nbformat_minor": 2
}
