{
 "cells": [
  {
   "cell_type": "code",
   "execution_count": 1,
   "metadata": {},
   "outputs": [],
   "source": [
    "%load_ext autoreload\n",
    "%autoreload 2"
   ]
  },
  {
   "cell_type": "code",
   "execution_count": 2,
   "metadata": {},
   "outputs": [],
   "source": [
    "\n",
    "#import numpy as np\n",
    "\n",
    "import sys\n",
    "sys.path.append(\"/Users/szagar/ZTS/Dropbox/Business/ats/Code/lib\")\n",
    "from ats_tools import add_proto,BOS,Day\n",
    "from db_query import connectDB     #,queryEntryFilter\n",
    "import pprint"
   ]
  },
  {
   "cell_type": "code",
   "execution_count": 9,
   "metadata": {},
   "outputs": [
    {
     "name": "stdout",
     "output_type": "stream",
     "text": [
      "1\n"
     ]
    }
   ],
   "source": [
    "#Day = 0\n",
    "#Swing = 0\n",
    "#BOS = 1\n",
    "tradeStrategy = BOS\n",
    "dbh = connectDB()\n",
    "data_series = [\n",
    "    ['@CL',\n",
    "    '15',\n",
    "    'm'],\n",
    "]\n",
    "\n",
    "#proto_id=add_proto(dbh,tradeStrategy,Day,data_series,time_segment='range:0,3,1:int',filter_2='list:19,32:int')\n",
    "proto_id=add_proto(dbh,tradeStrategy,Day,data_series,time_segment='range:0,3,1:int')\n",
    "pprint.pprint(proto_id)"
   ]
  },
  {
   "cell_type": "code",
   "execution_count": 16,
   "metadata": {},
   "outputs": [
    {
     "name": "stdout",
     "output_type": "stream",
     "text": [
      "C:\\ZTS\\Dropbox\\Business\\ats\n",
      "C:\\ZTS\\Dropbox\\Business\\ats\\Data\\Queue\\GaProtoResults\\test_file.csv\n",
      "/Users/szagar/ZTS/Dropbox/Business/ats/Data/Queue/GaProtoResults/test_file.csv\n"
     ]
    }
   ],
   "source": [
    "from pathlib import Path, PureWindowsPath\n",
    "\n",
    "ats_dir_win = Path('C:\\\\ZTS\\Dropbox\\\\Business\\\\ats')\n",
    "ats_dir     = Path(\"/Users/szagar/ZTS/Dropbox/Business/ats\")\n",
    "dp_dir      = Path(\"Data/Queue/GaProtoResults\")\n",
    "\n",
    "def warn(str):\n",
    "    print(f\"WARNING: {str}\")\n",
    "\n",
    "\n",
    "\n",
    "f0 = PureWindowsPath(ats_dir_win)\n",
    "print(f0)\n",
    "\n",
    "fn=\"test_file.csv\"\n",
    "f1 = PureWindowsPath(ats_dir_win / dp_dir / fn)\n",
    "print(f1)\n",
    "\n",
    "f2 = ats_dir / dp_dir / fn\n",
    "print(f2)\n"
   ]
  },
  {
   "cell_type": "code",
   "execution_count": null,
   "metadata": {},
   "outputs": [],
   "source": []
  }
 ],
 "metadata": {
  "kernelspec": {
   "display_name": "Python 3",
   "language": "python",
   "name": "python3"
  },
  "language_info": {
   "codemirror_mode": {
    "name": "ipython",
    "version": 3
   },
   "file_extension": ".py",
   "mimetype": "text/x-python",
   "name": "python",
   "nbconvert_exporter": "python",
   "pygments_lexer": "ipython3",
   "version": "3.7.1"
  }
 },
 "nbformat": 4,
 "nbformat_minor": 2
}
