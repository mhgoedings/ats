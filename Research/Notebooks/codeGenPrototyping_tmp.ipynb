{
 "cells": [
  {
   "cell_type": "code",
   "execution_count": 36,
   "metadata": {},
   "outputs": [],
   "source": [
    "from jinja2 import FileSystemLoader, Environment\n",
    "#from openpyxl import Workbook\n",
    "#from openpyxl import load_workbook\n",
    "from glom import glom\n",
    "import numpy as np\n",
    "\n",
    "import sys,os,re\n",
    "\n",
    "from sqlalchemy import create_engine\n",
    "from sqlalchemy.orm import sessionmaker\n",
    "\n",
    "sys.path.append(\"/Users/szagar/ZTS/Dropbox/Business/ats/Code/Model/v3\")\n",
    "sys.path.append(\"/Users/szagar/ZTS/Dropbox/Business/ats/Code/lib\")\n",
    "\n",
    "from oos_test import OosTest\n",
    "from strategy import Strategy\n",
    "from candidate import Candidate\n",
    "from prototype import Prototype\n",
    "from proto_config import ProtoConfig\n",
    "from prototype_parameter import PrototypeParameter\n",
    "from entry_filter import EntryFilter\n",
    "from poi import Poi\n",
    "from session import Session as TradeSession\n",
    "from base import Base, Session\n",
    "\n",
    "#from ats_tools import add2hhmm\n",
    "from ats_tools import hhmm2mins, mins2hhmm, add2hhmm\n",
    "\n",
    "#import pprint\n",
    "\n",
    "dp = {}\n",
    "desc ={}\n",
    "ats_dir = '/Users/szagar/ZTS/Dropbox/Business/ats'\n"
   ]
  },
  {
   "cell_type": "code",
   "execution_count": 37,
   "metadata": {},
   "outputs": [],
   "source": [
    "def connectDB():\n",
    "    db = Session()\n",
    "    db_url = os.environ[\"DB_HEROKU\"]\n",
    "\n",
    "    engine = create_engine(db_url)\n",
    "    Base.metadata.bind = engine\n",
    "\n",
    "    DBSession = sessionmaker(bind=engine)\n",
    "    session = DBSession()\n",
    "    return session"
   ]
  },
  {
   "cell_type": "code",
   "execution_count": 38,
   "metadata": {},
   "outputs": [
    {
     "name": "stdout",
     "output_type": "stream",
     "text": [
      "1\n"
     ]
    }
   ],
   "source": [
    "def nextPrototypeId(dbh):\n",
    "    #return dbh.query(Prototype).filter(Prototype.id > 0).order_by(Prototype.id).all()\n",
    "    return dbh.query(ProtoConfig).filter(ProtoConfig.id > 0).order_by(ProtoConfig.id).all()\n",
    "dbh = connectDB()\n",
    "print(nextPrototypeId(dbh)[0].id)"
   ]
  },
  {
   "cell_type": "code",
   "execution_count": 39,
   "metadata": {},
   "outputs": [],
   "source": [
    "def queryPrototype(dbh,id):\n",
    "    return dbh.query(ProtoConfig).filter(ProtoConfig.id == id).all()\n",
    "    #return dbh.query(Prototype).filter(Prototype.id == id).all()\n",
    "#dbh = connectDB()\n",
    "#print(queryPrototype(dbh,1)[0].symbol)"
   ]
  },
  {
   "cell_type": "code",
   "execution_count": 40,
   "metadata": {},
   "outputs": [],
   "source": [
    "def queryPrototypeParams(dbh,id):\n",
    "    return dbh.query(PrototypeParameter).filter(PrototypeParameter.proto_id == id).all()\n",
    "#dbh = connectDB()\n",
    "#print(queryPrototypeParams(dbh,1)[0].name)\n"
   ]
  },
  {
   "cell_type": "code",
   "execution_count": 6,
   "metadata": {},
   "outputs": [],
   "source": [
    "def queryEntryFilter(dbh,id):\n",
    "    return dbh.query(EntryFilter).filter(EntryFilter.id == id).one_or_none()\n",
    "#dbh = connectDB()\n",
    "#print(queryEntryFilter(dbh,1).long_logic)"
   ]
  },
  {
   "cell_type": "code",
   "execution_count": 7,
   "metadata": {},
   "outputs": [],
   "source": [
    "def queryPoi(dbh,id):\n",
    "    return dbh.query(Poi).filter(Poi.id == id).one_or_none()\n",
    "#dbh = connectDB()\n",
    "#print(queryPoi(dbh,1).long_logic)"
   ]
  },
  {
   "cell_type": "code",
   "execution_count": 8,
   "metadata": {},
   "outputs": [],
   "source": [
    "def querySession(dbh,id):\n",
    "    return dbh.query(TradeSession).filter(TradeSession.id==id).one_or_none()\n",
    "#dbh = connectDB()\n",
    "#print(f'{querySession(dbh,8).session_start} :: {querySession(dbh,8).session_end}')"
   ]
  },
  {
   "cell_type": "code",
   "execution_count": 9,
   "metadata": {},
   "outputs": [
    {
     "data": {
      "text/plain": [
       "\"def defineInputsVars():\\n    #pattern = re.compile(r'^\\\\w+,\\\\w+,\\\\w+$')\\n    inputs = {}\\n    varz = {}\\n    pattern = re.compile(r'^.+,.+,.+$')\\n    for i in InputsVars:\\n        if i in dp:\\n            match = re.search(pattern, str(dp[i]))\\n            if match:\\n                if i not in inputs:\\n                    inputs[i] = {}\\n                inputs[i]['optStr'] = dp[i]\\n                inputs[i]['baseVal'] = 'tbd' #candData[i]\\n                inputs[i]['dtype'] = lookupDtypes(i)   #varRef[i]\\n            else:\\n                if i not in varz:\\n                    varz[i] = {}\\n                varz[i]['baseVal'] = dp[i] #candData[i]\\n                varz[i]['dtype'] = lookupDtypes(i)   #varRef[i]\\n                #print(f'{i}({dp[i]}) :Not found')\\n    return inputs, varz\\n\""
      ]
     },
     "execution_count": 9,
     "metadata": {},
     "output_type": "execute_result"
    }
   ],
   "source": [
    "'''def defineInputsVars():\n",
    "    #pattern = re.compile(r'^\\w+,\\w+,\\w+$')\n",
    "    inputs = {}\n",
    "    varz = {}\n",
    "    pattern = re.compile(r'^.+,.+,.+$')\n",
    "    for i in InputsVars:\n",
    "        if i in dp:\n",
    "            match = re.search(pattern, str(dp[i]))\n",
    "            if match:\n",
    "                if i not in inputs:\n",
    "                    inputs[i] = {}\n",
    "                inputs[i]['optStr'] = dp[i]\n",
    "                inputs[i]['baseVal'] = 'tbd' #candData[i]\n",
    "                inputs[i]['dtype'] = lookupDtypes(i)   #varRef[i]\n",
    "            else:\n",
    "                if i not in varz:\n",
    "                    varz[i] = {}\n",
    "                varz[i]['baseVal'] = dp[i] #candData[i]\n",
    "                varz[i]['dtype'] = lookupDtypes(i)   #varRef[i]\n",
    "                #print(f'{i}({dp[i]}) :Not found')\n",
    "    return inputs, varz\n",
    "'''"
   ]
  },
  {
   "cell_type": "code",
   "execution_count": 10,
   "metadata": {},
   "outputs": [],
   "source": [
    "def render_from_template(directory, template_name, **kwargs):\n",
    "    loader = FileSystemLoader(directory)\n",
    "    env = Environment(loader=loader)\n",
    "    template = env.get_template(template_name)\n",
    "    return template.render(**kwargs)"
   ]
  },
  {
   "cell_type": "code",
   "execution_count": 11,
   "metadata": {},
   "outputs": [],
   "source": [
    "def formatCommentStrings(setup):\n",
    "    #1st timeframe = {setup['timeframe_1']} {setup['timeframe_1_unit']}\n",
    "    #2nd timeframe = {setup['timeframe_2']} {setup['timeframe_2_unit']}\n",
    "    #  1st timeframe = {setup['timeframes'][0]['tf']} {setup['timeframes'][0]['unit']}\n",
    "    #  2nd timeframe = {setup['timeframes'][1]['tf']} {setup['timeframes'][1]['unit']}\n",
    "    tf_arr = []\n",
    "    for tf in setup['timeframes']:\n",
    "        tf_arr.append(f\"Timeframe {tf['ds']} = {tf['tf']} {tf['unit']}\")\n",
    "    tf_str = ('\\n').join(tf_arr)\n",
    "    #print(f\"formatCommentStrings:tf={tf}\")\n",
    "    desc['chart_setup'] = f\"\"\"Chart Setup:\n",
    "      symbol = {setup['symbol']}\n",
    "      {tf_str}\n",
    "      Fitness Function = {setup['fitnessFunc']}\n",
    "      maxDaysBack = {setup['maxBarsBack']}\n",
    "      session name = {setup['session_name']}\n",
    "      start date = {setup['start_dt']}\n",
    "      end date = {setup['end_dt']}\"\"\"\n",
    "    desc['prototype_info'] = f'''Prototype Info::\n",
    "      dataSet = {setup['data_set']}\n",
    "      dataBlock = {setup['data_block']}    \n",
    "    '''"
   ]
  },
  {
   "cell_type": "code",
   "execution_count": 12,
   "metadata": {},
   "outputs": [],
   "source": [
    "def addInputRange(p):\n",
    "    inp_def = {}\n",
    "    inp_def['type'] = 'range'\n",
    "    inp_def['dtype'] = p.data_type\n",
    "    inp_def['params'] = p.value\n",
    "    if p.data_type == 'double':\n",
    "        st,end,step = [float(x) for x in p.value.split(',')]\n",
    "        inp_def['value'] = [format(x,'.2f') for x in np.arange(st,end+step,step)]\n",
    "    else:\n",
    "        st,end,step = [int(x) for x in p.value.split(',')]\n",
    "        inp_def['value'] = [int(x) for x in np.arange(st,end+step,step)]\n",
    "    return inp_def"
   ]
  },
  {
   "cell_type": "code",
   "execution_count": 13,
   "metadata": {},
   "outputs": [],
   "source": [
    "def addInputList(p):\n",
    "    inp_def = {}\n",
    "    inp_def['type'] = 'list'\n",
    "    inp_def['dtype'] = p.data_type\n",
    "    inp_def['value'] = [int(x) for x in p.value.split(',')]\n",
    "    return inp_def"
   ]
  },
  {
   "cell_type": "code",
   "execution_count": 14,
   "metadata": {},
   "outputs": [],
   "source": [
    "def addInputVar(p):\n",
    "    inp_def = {}\n",
    "    inp_def['type'] = 'var'\n",
    "    inp_def['dtype'] = p.data_type\n",
    "    inp_def['value'] = [p.value,]\n",
    "    return inp_def"
   ]
  },
  {
   "cell_type": "code",
   "execution_count": 15,
   "metadata": {},
   "outputs": [],
   "source": [
    "def warn(str):\n",
    "    print(f'WARNING: {str}')"
   ]
  },
  {
   "cell_type": "code",
   "execution_count": 16,
   "metadata": {},
   "outputs": [],
   "source": [
    "def parseInput(param):\n",
    "    if param.input_type == 'range':\n",
    "        return param.name, addInputRange(param)\n",
    "    elif param.input_type == 'list':\n",
    "        return param.name, addInputList(param)\n",
    "    elif param.input_type == 'var':\n",
    "        return param.name, addInputVar(param)\n",
    "    else:\n",
    "        warn(f'input_type({p.input_type}) not coded for, id={p.id}')"
   ]
  },
  {
   "cell_type": "code",
   "execution_count": 17,
   "metadata": {},
   "outputs": [],
   "source": [
    "def setSessionVars(id):\n",
    "    sess = querySession(dbh,id)\n",
    "    return sess.session_start, sess.session_end"
   ]
  },
  {
   "cell_type": "code",
   "execution_count": 18,
   "metadata": {},
   "outputs": [],
   "source": [
    "def setDataSeries(series):\n",
    "    # 1:@RTY.D:120:m,2:@RTY.D:1440:m\n",
    "    ds = []\n",
    "    for s in series.split(','):\n",
    "        sn,symbol,tf,tf_unit = s.split(':')\n",
    "        tf_dict = {'sn': sn, 'symbol': symbol, 'tf': tf, 'tf_unit': tf_unit}\n",
    "        ds.append(tf_dict)\n",
    "    return ds\n",
    "\n",
    "#series = '1:@RTY.D:120:m,2:@RTY.D:1440:m'\n",
    "#print(setDataSeries(series))"
   ]
  },
  {
   "cell_type": "code",
   "execution_count": 19,
   "metadata": {},
   "outputs": [],
   "source": [
    "import datetime\n",
    "\n",
    "def formatDate(from_dt):\n",
    "    # .SetFirstDate(\"2015-12-30\")             { \"12/30/2015\" }\n",
    "    #return datetime.datetime.strftime(datetime.datetime.strptime(from_dt,'%Y-%m-%d'),'%d/%m/%Y')\n",
    "    return datetime.datetime.strftime(from_dt,'%m/%d/%Y')\n"
   ]
  },
  {
   "cell_type": "markdown",
   "metadata": {},
   "source": [
    "        // Security 1 (Data1)\n",
    "        security = job.Securities.AddSecurity();\n",
    "        security.Symbol = \"AAPL\";\n",
    "        security.Interval.SetMinuteChart(60);\n",
    "        security.History.SetYearsBack(2);\n",
    "\n",
    "        // Security 2 (Data2)\n",
    "        security = job.Securities.AddSecurity();\n",
    "        security.Symbol = \"$VIX.X\";\n",
    "        security.Interval.SetDailyChart();\n",
    "        security.History.SetYearsBack(2);\n"
   ]
  },
  {
   "cell_type": "code",
   "execution_count": 20,
   "metadata": {},
   "outputs": [],
   "source": [
    "def getConfiguration(dbh,id):\n",
    "    proto = queryPrototype(dbh,id)[0]\n",
    "    params = queryPrototypeParams(dbh,id)\n",
    "    setup = {}\n",
    "    setup['proto_id'] = proto.id\n",
    "    setup['template_version'] = proto.template_version\n",
    "    setup['symbol'] = proto.symbol\n",
    "    setup['data_set'] = proto.data_set\n",
    "    setup['data_block'] = proto.data_block\n",
    "    setup['chart_series'] = proto.chart_series\n",
    "    setup['fitnessFunc'] = proto.fitness_function\n",
    "    setup['maxBarsBack'] = proto.max_days_back\n",
    "    setup['oosPercentLast'] = 20\n",
    "    setup['session_num'] = proto.session_id\n",
    "    setup['session_name'] = f'session {proto.session_id}'\n",
    "    setup['start_dt'] = formatDate(proto.start_dt)\n",
    "    setup['end_dt'] = formatDate(proto.end_dt)\n",
    "    setup['chart_series'] = proto.chart_series\n",
    "\n",
    "    setup['sess_start'],setup['sess_end'] = setSessionVars(setup['session_num'])\n",
    "    setup['data_series'] = setDataSeries(setup['chart_series'])\n",
    "    \n",
    "    setup['opt_inputs'] = {}\n",
    "    setup['param_vars'] = {}\n",
    "    for p in params:\n",
    "        param_name,param_setup = parseInput(p)\n",
    "        setup['opt_inputs'][param_name] = param_setup\n",
    "    setup['timeframes'] = []\n",
    "    for ds in setup['chart_series'].split(','):\n",
    "        i,symbol,tf,unit = ds.split(':')\n",
    "        tf_d = {'ds': i, 'symbol': symbol, 'tf': tf, 'unit': unit}\n",
    "        setup['timeframes'].append(tf_d)\n",
    "    return setup"
   ]
  },
  {
   "cell_type": "code",
   "execution_count": 21,
   "metadata": {},
   "outputs": [],
   "source": [
    "def setHeader(setup):\n",
    "    return f'''      prototype: { setup['proto_id'] }\n",
    "      template: { setup['template_version'] }\n",
    "      job file: { job_file }\n",
    "      poi IDs     : { glom(setup,'opt_inputs.poi.value',default=None) }\n",
    "      filter 1 IDs: { glom(setup,'opt_inputs.filter_1.value',default=None) }\n",
    "      filter 2 IDs: { glom(setup,'opt_inputs.filter_2.value',default=None) }'''"
   ]
  },
  {
   "cell_type": "code",
   "execution_count": 22,
   "metadata": {},
   "outputs": [],
   "source": [
    "def filterLogic(setup):\n",
    "    filters = {}\n",
    "    ds = 1\n",
    "    while True:\n",
    "        ids = glom(setup,f'opt_inputs.filter_{ds}.value',default=None)\n",
    "        if ids is None:\n",
    "            break\n",
    "        if isinstance(ids,str):\n",
    "            ids = ids.split(',')\n",
    "        idx = 1\n",
    "        filters[ds] = {}\n",
    "        for id in ids:\n",
    "            q = queryEntryFilter(dbh,id)\n",
    "            try:\n",
    "                #print(f\"long_code{id}: {q.long_logic}\")\n",
    "                long_code = q.long_logic.format(p1=f'filter_{ds}_n1',p2=f'filter_{ds}_n2',fn=ds)\n",
    "            except AttributeError:\n",
    "                long_code = None\n",
    "            try:\n",
    "                #print(f\"short_code{id}: {q.short_logic}\")\n",
    "                short_code = q.short_logic.format(p1=f'filter_{ds}_n1',p2=f'filter_{ds}_n2',long=f'{long_code}',fn=ds)\n",
    "            except AttributeError:\n",
    "                short_code = None\n",
    "\n",
    "            #d_filter = {'fid': id, \n",
    "            #            'long': long_code,\n",
    "            #            'short': short_code}\n",
    "            filters[ds][idx] = {'fid': id, \n",
    "                        'long': long_code,\n",
    "                        'short': short_code}\n",
    "            idx+=1\n",
    "            \n",
    "        ds+=1\n",
    "    return filters"
   ]
  },
  {
   "cell_type": "code",
   "execution_count": null,
   "metadata": {},
   "outputs": [],
   "source": []
  },
  {
   "cell_type": "code",
   "execution_count": 23,
   "metadata": {},
   "outputs": [],
   "source": [
    "def lsbLogic(setup):\n",
    "    if glom(setup,'opt_inputs.lsb.value',default=None) != 4: return\n",
    "    setup['opt_inputs']['lsb']['value'] = 3\n",
    "    logic = f'''\n",
    "        switch(dow)\n",
    "        begin\n",
    "            case 1:\n",
    "                lsb = mon_lsb;\n",
    "            case 2:\n",
    "                lsb = tue_lsb;\n",
    "            case 3:\n",
    "                lsb = wed_lsb;\n",
    "            case 4:\n",
    "                lsb = thu_lsb;\n",
    "            case 5:\n",
    "                lsb = fri_lsb;\n",
    "        end;\n",
    "    '''\n",
    "    return logic"
   ]
  },
  {
   "cell_type": "code",
   "execution_count": 24,
   "metadata": {},
   "outputs": [],
   "source": [
    "\n",
    "def poiLogic(setup):\n",
    "    id_list = glom(setup,'opt_inputs.poi.value',default=None)\n",
    "    logic = []\n",
    "    if id_list == '' or id_list == None: return logic\n",
    "    ids = id_list\n",
    "    if isinstance(id_list, str):\n",
    "        ids = id_list.split(',')     \n",
    "    if len(ids) == 0: return []\n",
    "    for id in ids:\n",
    "        q = queryPoi(dbh,id)\n",
    "        if not q:\n",
    "            logic = None\n",
    "            warn(f\"poiLogic: No POI logic for id: {id}\")\n",
    "            continue\n",
    "        #pprint(q)\n",
    "        logic.append({'poi_id': id, 'common': q.common_logic, 'long': q.long_logic, 'short': q.short_logic})\n",
    "        if(q.vars):\n",
    "            for v in q.vars.split(';'):\n",
    "                name,dtype,value = v.split(':')\n",
    "                setup['param_vars'][name] = {'d_type': dtype, 'value': value}\n",
    "                #'opt_inputs': {'filter_1': {'dtype': 'int',\n",
    "                #             'type': 'distinct',\n",
    "                #             'value': [2, 5, 6]},\n",
    "            #pprint(setup)      #'param_vars': 'int:cum_ma_cnt;int:cum_ma',\n",
    "    return logic"
   ]
  },
  {
   "cell_type": "code",
   "execution_count": 25,
   "metadata": {},
   "outputs": [],
   "source": [
    "def calcTimeSegmentSize(start,end,n_segs=3):\n",
    "    return (hhmm2mins(end)-hhmm2mins(start)) / n_segs\n",
    "#print(calcTimeSegmentSize(930,1600))"
   ]
  },
  {
   "cell_type": "code",
   "execution_count": 26,
   "metadata": {},
   "outputs": [],
   "source": [
    "def timeSegmentLogic(setup):\n",
    "    #print(f\"timeSegmentLogic(seg): timeSegmentLogic({seg})\")\n",
    "    seg=glom(setup,'opt_inputs.time_segment.value',default=None)\n",
    "    tseg = calcTimeSegmentSize(setup['sess_start'],setup['sess_end'])\n",
    "    #timeframe = setup['timeframe_1']\n",
    "    timeframe = setup['timeframes'][0]['tf']\n",
    "    sess_start = setup['sess_start']\n",
    "    sess_end = setup['sess_end']\n",
    "    if len(seg)>1:\n",
    "        code = f'''\n",
    "        Switch (time_segment) begin\n",
    "          case 0: begin\n",
    "            time_filter = True;\n",
    "          end;\n",
    "          case 1 : begin\n",
    "            time_filter = time > {sess_start} and time <= {add2hhmm(sess_start, tseg)};\n",
    "          end;\n",
    "          case 2 : begin\n",
    "            time_filter = time > {add2hhmm(sess_start, tseg)} and time <= {add2hhmm(sess_start, (2*tseg) )};\n",
    "          end;\n",
    "          case 3 : begin\n",
    "            time_filter = time > {add2hhmm(sess_start, (2*tseg))} and time < {add2hhmm(sess_end,-timeframe)};\n",
    "          end;\n",
    "        end;\n",
    "        '''\n",
    "    elif (len(seg) == 1):\n",
    "        if seg[0] == '0':\n",
    "            code = f\"time_filter = True;\"\n",
    "        elif seg[0] == '1':\n",
    "            code = f\"time_filter = time > {sess_start} and time <= {add2hhmm(sess_start, tseg)};\"\n",
    "        elif seg[0] == '2':\n",
    "            code = f\"time_filter = time > {add2hhmm(sess_start, tseg)} and time <= {add2hhmm(sess_start, (2*tseg) )};\"\n",
    "        elif seg[0] == '3':\n",
    "            code = f\"time_filter = time > {add2hhmm(sess_start, (2*tseg))} and time < {add2hhmm(sess_end,-timeframe)};\"\n",
    "        else:\n",
    "            warn(f\"timeSegmentLogic({seg}) NOT CODED\")\n",
    "    else:\n",
    "        code = f\"time_filter = True;\"\n",
    "        \n",
    "    return code\n",
    "\n",
    "#timeframe=15\n",
    "#setup={}\n",
    "#setup['sess_start']=930\n",
    "#setup['sess_end']=1600\n",
    "#timeSegmentLogic([0])\n",
    "#timeSegmentLogic([1])\n",
    "#timeSegmentLogic([2])\n",
    "#timeSegmentLogic([3])\n",
    "#timeSegmentLogic([1,2,3])\n"
   ]
  },
  {
   "cell_type": "code",
   "execution_count": 27,
   "metadata": {},
   "outputs": [],
   "source": [
    "def stopLossLogic(setup):\n",
    "    param=glom(setup,'opt_inputs.stop_loss.value',default=None)\n",
    "    if param == None: return None\n",
    "    code = \"SetStopLoss(stop_loss);\"\n",
    "    return code"
   ]
  },
  {
   "cell_type": "code",
   "execution_count": 28,
   "metadata": {},
   "outputs": [],
   "source": [
    "def profitTargetLogic(setup):\n",
    "    param=glom(setup,'opt_inputs.profit_target.value',default=None)\n",
    "    if param == None: return None\n",
    "    if setup:\n",
    "        code = \"SetProfitTarget(profit_target);\"\n",
    "    return code"
   ]
  },
  {
   "cell_type": "code",
   "execution_count": 29,
   "metadata": {},
   "outputs": [],
   "source": [
    "def processTemplate(hdr,setup,logic):\n",
    "    templateLoader = FileSystemLoader(searchpath=f\"{ats_dir}/Code/Templates/Prototype/\")\n",
    "    templateEnv = Environment(loader=templateLoader)\n",
    "    TEMPLATE_FILE = setup['template_version']\n",
    "    print(f\"processTemplate: template file = {TEMPLATE_FILE}\")\n",
    "    template = templateEnv.get_template(TEMPLATE_FILE)\n",
    "    outputText = template.render(header=hdr,\n",
    "                                 chart_setup=desc['chart_setup'],\n",
    "                                 prototype_info=desc['prototype_info'],\n",
    "                                 dp_data=dp,\n",
    "                                 comments=desc,\n",
    "                                 poi = \"more testing for poi\",\n",
    "                                 filters = logic['filters'],\n",
    "                                 setup=setup,\n",
    "                                 logic=logic\n",
    "                                )\n",
    "    return(outputText)"
   ]
  },
  {
   "cell_type": "code",
   "execution_count": 30,
   "metadata": {},
   "outputs": [],
   "source": [
    "def processJclTemplate(setup):\n",
    "    in_sample_file = f\"proto_{setup['proto_id']}_is.csv\"\n",
    "    out_of_sample_file = f\"proto_{setup['proto_id']}_oos.csv\"\n",
    "    templateLoader = FileSystemLoader(searchpath=f\"{ats_dir}/Code/Templates/JCL/\")\n",
    "    templateEnv = Environment(loader=templateLoader)\n",
    "    TEMPLATE_FILE = f\"proto_{setup['proto_id']}.jcl\"\n",
    "    TEMPLATE_FILE = f\"jcl_v2\"\n",
    "    print(f\"processJclTemplate: template file = {TEMPLATE_FILE}\")\n",
    "    template = templateEnv.get_template(TEMPLATE_FILE)\n",
    "    outputText = template.render(setup=setup,\n",
    "                                 in_sample_file=in_sample_file,\n",
    "                                 out_of_sample_file=out_of_sample_file\n",
    "                                )\n",
    "    #outputText = template.render(header=\"hdr\",\n",
    "    #                             chart_setup=desc['chart_setup'],\n",
    "    #                             prototype_info=desc['prototype_info'],\n",
    "    #                             dp_data=dp,\n",
    "    #                             comments=desc,\n",
    "    #                             poi = \"more testing for poi\",\n",
    "    #                             filters = \"logic['filters']\",\n",
    "    #                             setup=setup,\n",
    "    #                             logic=\"logic\"\n",
    "    #                            )\n",
    "    return(outputText)"
   ]
  },
  {
   "cell_type": "code",
   "execution_count": 31,
   "metadata": {},
   "outputs": [],
   "source": [
    "def generateEL(dbh,setup):\n",
    "    logic = {}\n",
    "    hdr = setHeader(setup)\n",
    "    logic['lsb'] = lsbLogic(setup)\n",
    "    logic['poi'] = poiLogic(setup)\n",
    "    logic['filters'] = filterLogic(setup)\n",
    "    #pprint(logic['filters'])\n",
    "    logic['tseg'] = timeSegmentLogic(setup)\n",
    "    logic['stop_loss'] = stopLossLogic(setup)\n",
    "    logic['profit_target'] = profitTargetLogic(setup)\n",
    "    formatCommentStrings(setup)\n",
    "    #print(\"hdr:\")\n",
    "    #pprint(hdr)\n",
    "    #print(\"setuo:\")\n",
    "    #pprint(setup)\n",
    "    #print(\"logic:\")\n",
    "    #pprint(logic)\n",
    "    strat = processTemplate(hdr,setup,logic)\n",
    "    dir = f'{ats_dir}/Data/PrototypeCode/'\n",
    "    file_out = f\"{dir}{setup['strategy_name']}\"\n",
    "    print(f\"write Proto to {file_out}\")\n",
    "    open(file_out, \"w\").write(strat)\n",
    "    return strat"
   ]
  },
  {
   "cell_type": "code",
   "execution_count": 32,
   "metadata": {},
   "outputs": [],
   "source": [
    "def generateJCL(dbh,setup):\n",
    "    code = processJclTemplate(setup)\n",
    "    dir = f\"{ats_dir}/Data/OptimizationApiCode/\"\n",
    "    file_out = f\"{dir}{setup['jcl_file']}\"\n",
    "    print(f\"write JCL to {file_out}\")\n",
    "    open(file_out, \"w\").write(code)\n",
    "    return code"
   ]
  },
  {
   "cell_type": "code",
   "execution_count": 33,
   "metadata": {},
   "outputs": [],
   "source": [
    "dbh = connectDB()\n",
    "proto_id = nextPrototypeId(dbh)[0].id\n",
    "setup = getConfiguration(dbh,proto_id)\n",
    "setup['strategy_name'] = f\"proto_{setup['proto_id']}_b2\"\n",
    "setup['jcl_file'] = f\"jcl_{setup['proto_id']}_b1.jcl\""
   ]
  },
  {
   "cell_type": "code",
   "execution_count": 34,
   "metadata": {},
   "outputs": [
    {
     "name": "stdout",
     "output_type": "stream",
     "text": [
      "processTemplate: template file = v4\n",
      "write Proto to /Users/szagar/ZTS/Dropbox/Business/ats/Data/PrototypeCode/proto_1_b2\n"
     ]
    }
   ],
   "source": [
    "\n",
    "job_file = f'opt_job_proto_{proto_id}'\n",
    "out = generateEL(dbh,setup)\n",
    "#print(out)\n"
   ]
  },
  {
   "cell_type": "code",
   "execution_count": 35,
   "metadata": {},
   "outputs": [
    {
     "name": "stdout",
     "output_type": "stream",
     "text": [
      "processJclTemplate: template file = jcl_v2\n",
      "write JCL to /Users/szagar/ZTS/Dropbox/Business/ats/Data/OptimizationApiCode/jcl_1_b1.jcl\n"
     ]
    }
   ],
   "source": [
    "#pprint(setup)\n",
    "out = generateJCL(dbh,setup)\n",
    "#print(out)\n"
   ]
  },
  {
   "cell_type": "code",
   "execution_count": null,
   "metadata": {},
   "outputs": [],
   "source": []
  },
  {
   "cell_type": "code",
   "execution_count": null,
   "metadata": {},
   "outputs": [],
   "source": []
  },
  {
   "cell_type": "code",
   "execution_count": null,
   "metadata": {},
   "outputs": [],
   "source": []
  },
  {
   "cell_type": "code",
   "execution_count": null,
   "metadata": {},
   "outputs": [],
   "source": []
  },
  {
   "cell_type": "code",
   "execution_count": null,
   "metadata": {},
   "outputs": [],
   "source": []
  }
 ],
 "metadata": {
  "kernelspec": {
   "display_name": "Python 3",
   "language": "python",
   "name": "python3"
  },
  "language_info": {
   "codemirror_mode": {
    "name": "ipython",
    "version": 3
   },
   "file_extension": ".py",
   "mimetype": "text/x-python",
   "name": "python",
   "nbconvert_exporter": "python",
   "pygments_lexer": "ipython3",
   "version": "3.7.1"
  }
 },
 "nbformat": 4,
 "nbformat_minor": 2
}
