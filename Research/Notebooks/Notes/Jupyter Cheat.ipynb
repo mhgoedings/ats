{
 "cells": [
  {
   "cell_type": "markdown",
   "metadata": {},
   "source": [
    "## Jupyter Commands"
   ]
  },
  {
   "cell_type": "raw",
   "metadata": {},
   "source": [
    "ESC     :  command mode\n",
    "ENTER   : cell mode view\n",
    "A       : inserts a cell above the currently selected cell. command mode\n",
    "B       : inserts a cell below the currently selected cell. \n",
    "D+D     : deletes the currently selected cell. \n",
    "M       : Markdown mode\n",
    "Y       : Code mode\n",
    "R       : Raw mode\n",
    "^B      : view column \n",
    "shift+M : merges multiple selected cells into one cell. \n",
    "^shift_(+–) :splits the current cell into two cells\n",
    "shift+J or shift+DOWN : help in making multiple selections of cells.\n",
    "shift+K or shift+UP   : help in making multiple selections of cells.\n",
    "^/                    :  commenting or uncommenting "
   ]
  },
  {
   "cell_type": "markdown",
   "metadata": {},
   "source": [
    "## Jupyter Magic"
   ]
  },
  {
   "cell_type": "code",
   "execution_count": null,
   "metadata": {},
   "outputs": [],
   "source": [
    "\n",
    "\n",
    "%matplotlib inline : plotting command to be displayed inline\n",
    "%lsmagic           : lists all the available magic functions\n",
    "%env               : lists all the environment variables\n",
    "%env:              : lists all environment variables values\n",
    "%env var:          : gives value for var environment variable\n",
    "(%env var val)\n",
    "(%env var=val):    : sets value for var environment variable\n",
    "%run               : can run .py and .ipnyb code file in the cell. \n",
    "%run file_name\n",
    "%load              : loads code into the cell\n",
    "%load source\n",
    "%who               : list variables in the global scope.  \n",
    "%who:              : all variables present\n",
    "%who df:           : lists all the data frames present\n",
    "%whos:             : gives more information about each variable\n",
    "%time              : information about the time taken in a single run\n",
    "%timeit            : Python timeit module, runs statement 100,000 times %writefile         : writes contents of cell to a file\n",
    "%writefile file_name\n",
    "%writefile -a file_name: append contents of cell to an existing file\n",
    "We can use IPython Magics with the name of a kernel at the start of each cell that we want to use that Kernel for. For e.g. %%bash %%HTML %%python2 %%python3 %%ruby %%perl"
   ]
  },
  {
   "cell_type": "code",
   "execution_count": 3,
   "metadata": {},
   "outputs": [
    {
     "data": {
      "text/html": [
       "<table><tr><td>1</td><td>2</td></tr><tr><td>3</td></tr></table>\n"
      ],
      "text/plain": [
       "<IPython.core.display.HTML object>"
      ]
     },
     "metadata": {},
     "output_type": "display_data"
    }
   ],
   "source": [
    "%%HTML\n",
    "<table><tr><td>1</td><td>2</td></tr><tr><td>3</td></tr></table>"
   ]
  },
  {
   "cell_type": "markdown",
   "metadata": {},
   "source": [
    "## Tricks"
   ]
  },
  {
   "cell_type": "markdown",
   "metadata": {},
   "source": [
    "output all cell print statements:\n",
    "  * manually\n",
    "\n",
    "      ```from IPython.core.interactiveshell import InteractiveShell\n",
    "InteractiveShell.ast_node_interactivity = \"all\"```\n",
    "  * config\n",
    "  \n",
    "      ```c.InteractiveShell.ast_node_interactivity = \"all\"```"
   ]
  },
  {
   "cell_type": "code",
   "execution_count": null,
   "metadata": {},
   "outputs": [],
   "source": []
  }
 ],
 "metadata": {
  "kernelspec": {
   "display_name": "Python 3",
   "language": "python",
   "name": "python3"
  },
  "language_info": {
   "codemirror_mode": {
    "name": "ipython",
    "version": 3
   },
   "file_extension": ".py",
   "mimetype": "text/x-python",
   "name": "python",
   "nbconvert_exporter": "python",
   "pygments_lexer": "ipython3",
   "version": "3.7.1"
  }
 },
 "nbformat": 4,
 "nbformat_minor": 2
}
