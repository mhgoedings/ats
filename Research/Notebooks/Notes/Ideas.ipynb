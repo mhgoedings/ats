{
 "cells": [
  {
   "cell_type": "markdown",
   "metadata": {},
   "source": [
    "## BOS Q&A #8  Al"
   ]
  },
  {
   "cell_type": "markdown",
   "metadata": {},
   "source": [
    "### Seasonality (Time)"
   ]
  },
  {
   "cell_type": "markdown",
   "metadata": {},
   "source": [
    "* Time Templates\n",
    "  * Crude Oil\n",
    "   * move session from 0900-1430 to 0858-1428  (timeframe increment\n",
    "   * tf2 = 29"
   ]
  },
  {
   "cell_type": "markdown",
   "metadata": {},
   "source": [
    "### Trading books\n",
    "Mean Reversion Trading Systems – Howard Bandy\n",
    "\n",
    "Short-term trading strategies that work – Larry and Cesar\n",
    "\n",
    "Building Reliable Trading Systems – Keith Fitschen\n",
    "\n",
    "### Research papers\n",
    "Does Trend Following work on Stocks? — Cole Wilcox\n",
    "\n",
    "Two centuries of Trend Following — M. Potters Etal\n",
    "\n",
    "Analysis of Trend Following Systems — Jose Cruset"
   ]
  },
  {
   "cell_type": "code",
   "execution_count": null,
   "metadata": {},
   "outputs": [],
   "source": []
  }
 ],
 "metadata": {
  "kernelspec": {
   "display_name": "Python 3",
   "language": "python",
   "name": "python3"
  },
  "language_info": {
   "codemirror_mode": {
    "name": "ipython",
    "version": 3
   },
   "file_extension": ".py",
   "mimetype": "text/x-python",
   "name": "python",
   "nbconvert_exporter": "python",
   "pygments_lexer": "ipython3",
   "version": "3.7.1"
  }
 },
 "nbformat": 4,
 "nbformat_minor": 2
}
