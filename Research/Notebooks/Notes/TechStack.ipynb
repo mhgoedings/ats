{
 "cells": [
  {
   "cell_type": "markdown",
   "metadata": {},
   "source": [
    "* Windows 12R2 hosted on OpLink\n",
    " * TradeStation 9.5\n",
    " * WinAutomation\n",
    " * Python\n",
    "   * pywinauto\n",
    "* Mac\n",
    " * Python\n",
    "   * SqlAlchemy\n",
    "   * pandas\n",
    "   * glom\n",
    " * jupyter lab\n",
    "* Database\n",
    "  * Postgres hosted on Heroku"
   ]
  },
  {
   "cell_type": "markdown",
   "metadata": {},
   "source": [
    "## Visualization\n",
    "* chartify https://github.com/spotify/chartify\n",
    "  * bokeh"
   ]
  },
  {
   "cell_type": "markdown",
   "metadata": {},
   "source": [
    "## Setup\n",
    "  * Installations for Deep Learning: Anaconda, Jupyter Notebook, Tensorflow, Keras | Keras #2\n",
    "    * https://www.youtube.com/watch?v=Ksu5zZIdfH0\n",
    "  * notes\n",
    "   * if not already installed: conda install -c conda-forge jupyterlab\n",
    "  * ### Jupyter lab\n",
    "    * create config:  Jupyter notebook --generate-config\n",
    "     * =>> c:/users/username/.jupyter/jupyter_notebook_config.py\n",
    "      * #c.NotebookApp.notebook_dir = ”\n",
    "    * Application mode\n",
    "      * manually: \n",
    "        * $ jupyter lab --no-browser\n",
    "        * Chrome.exe --app=copied <token>\n",
    "      * config file:\n",
    "        * c.NotebookApp.browser = \"C:/Program Files (x86)/Google/Chrome/Application/chrome.exe --app=%s\""
   ]
  },
  {
   "cell_type": "markdown",
   "metadata": {},
   "source": [
    "## Notes\n",
    "  * https://www.autoitscript.com/site/autoit/\n",
    "  * Kershner Trading / CloudQuant\n",
    "  * Seaborn - Statisical graphics library\n",
    "  * Bokeh - Interactive web visualization library\n",
    "  * SciPy - Scientific computing library\n",
    "  * Scikit-Learn - Python modules for machine learning and data mining"
   ]
  },
  {
   "cell_type": "markdown",
   "metadata": {},
   "source": [
    "## Hardware"
   ]
  },
  {
   "cell_type": "markdown",
   "metadata": {},
   "source": [
    "oplink.net\n",
    "* szagar@gmail.com\n",
    "* Dedicated Server - Dual Intel Xeon L5420\n",
    "* marley.sstk.xyz-5554851\n",
    "* $34.50/month\n",
    "* 162.218.230.2\n",
    "* CPU Dual Intel Xeon L5420 2.5GHz\n",
    " * 8 cores\n",
    "  * Logical processors\n",
    "  * virtualization\n",
    "  * L1 cache: 512 KB\n",
    "  * L2 cache: 24.0 MB\n",
    "* Memory 16 GB DDR2 ECC\n",
    "* Primary Storage 250GB Samsung SSD $10.00 USD\n",
    "* Secondary Storage None\n",
    "* Operating System Windows 10 Pro (64-Bit)\n",
    "* PRIMARY IP ALLOCATION 5 IPs for every 5 servers\n",
    "* Port Speed/Bandwidth 100M/Unmetered"
   ]
  },
  {
   "cell_type": "code",
   "execution_count": null,
   "metadata": {},
   "outputs": [],
   "source": []
  }
 ],
 "metadata": {
  "kernelspec": {
   "display_name": "Python 3",
   "language": "python",
   "name": "python3"
  },
  "language_info": {
   "codemirror_mode": {
    "name": "ipython",
    "version": 3
   },
   "file_extension": ".py",
   "mimetype": "text/x-python",
   "name": "python",
   "nbconvert_exporter": "python",
   "pygments_lexer": "ipython3",
   "version": "3.7.1"
  }
 },
 "nbformat": 4,
 "nbformat_minor": 2
}
