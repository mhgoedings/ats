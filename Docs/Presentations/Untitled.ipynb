{
 "cells": [
  {
   "cell_type": "markdown",
   "metadata": {},
   "source": [
    "As an example, this is one of the portfolios we trade for one of our clients with a 20k account:\n",
    "\n",
    "* One swing ATS that trades 1 contract on indices (emini Russell),\n",
    "* 1 ATS system on Kansas wheat,\n",
    "* 1 ATS on soybean oil (grains markets),\n",
    "* 1 ATS on cotton (softs markets),\n",
    "* and finally 1 ATS on Euro futures (currencies markets).\n"
   ]
  },
  {
   "cell_type": "markdown",
   "metadata": {},
   "source": [
    "### The charts below \n",
    "show the out of sample equity curves of five strategies in five different markets and the portfolio equity curve of these five strategies.  \n",
    "The single market strategies are robust, and are discovered by an automated, stringent process. \n",
    "* Generate candidate strategies.\n",
    "  * Genetic Alogrithm prototypes algorithms.  \n",
    "  * These are backtested and the resulting in-sample and out-of-sample data is filtered by \n",
    "  * The candidates passing the initial filter are ranked by a performnance index and the top 20 strategies move to next level of validation.\n",
    "* 10 year validation\n",
    "  * Walk-forard-analysis determines a strategies worthiness for further evaluation.\n",
    "* Cluster Analysis determines the strategies robustness level\n",
    "* OOs This process begins with  strategies that meet performance criteria:\n",
    "* average trade size > 3 * transaction costs\n",
    "* net profit / max drawdown ratio > 3\n",
    "* max drawdown < 20%\n",
    "\n",
    "### Robustness is measured"
   ]
  },
  {
   "cell_type": "markdown",
   "metadata": {},
   "source": [
    "![strategies](images/port_strats_ex1.png \"Title\")"
   ]
  },
  {
   "cell_type": "markdown",
   "metadata": {},
   "source": [
    "![strategies](images/strat_portf_compare.png \"Title\")"
   ]
  },
  {
   "cell_type": "markdown",
   "metadata": {},
   "source": [
    "![strategies](images/strat_corr.png \"Title\")"
   ]
  },
  {
   "cell_type": "code",
   "execution_count": null,
   "metadata": {},
   "outputs": [],
   "source": []
  }
 ],
 "metadata": {
  "kernelspec": {
   "display_name": "Python 3",
   "language": "python",
   "name": "python3"
  },
  "language_info": {
   "codemirror_mode": {
    "name": "ipython",
    "version": 3
   },
   "file_extension": ".py",
   "mimetype": "text/x-python",
   "name": "python",
   "nbconvert_exporter": "python",
   "pygments_lexer": "ipython3",
   "version": "3.7.0"
  }
 },
 "nbformat": 4,
 "nbformat_minor": 2
}
